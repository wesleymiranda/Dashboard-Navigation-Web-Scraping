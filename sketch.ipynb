{
 "cells": [
  {
   "cell_type": "markdown",
   "metadata": {},
   "source": [
    "## IMPORT"
   ]
  },
  {
   "cell_type": "code",
   "execution_count": 15,
   "metadata": {},
   "outputs": [],
   "source": [
    "from selenium import webdriver\n",
    "from selenium.webdriver.common.by import By\n",
    "\n",
    "from time import sleep"
   ]
  },
  {
   "cell_type": "markdown",
   "metadata": {},
   "source": [
    "#### Iniciar Configs"
   ]
  },
  {
   "cell_type": "code",
   "execution_count": 16,
   "metadata": {},
   "outputs": [],
   "source": [
    "import yaml\n",
    "\n",
    "config = yaml.safe_load(open('config\\\\general-config.yml'))\n",
    "confidential = yaml.safe_load(open('config\\\\confidecial-config.yml'))"
   ]
  },
  {
   "cell_type": "markdown",
   "metadata": {},
   "source": [
    "## Iniciar navegador com o driver"
   ]
  },
  {
   "cell_type": "code",
   "execution_count": 18,
   "metadata": {},
   "outputs": [
    {
     "name": "stdout",
     "output_type": "stream",
     "text": [
      "CAPA\n",
      "METAS\n",
      "SE VIRA NOS 30\n",
      "INDICADORES\n",
      "HISTÓRICO\n",
      "\n",
      "\n",
      "\n",
      "\n",
      "CAPA\n",
      "METAS\n"
     ]
    },
    {
     "ename": "ElementClickInterceptedException",
     "evalue": "Message: element click intercepted: Element <div class=\"small-multiples-grid-cell-content buttonSlicerVisual\" role=\"button\" tabindex=\"0\" focusable=\"true\" aria-pressed=\"false\" style=\"width: 161px;\">...</div> is not clickable at point (362, 118). Other element would receive the click: <span _ngcontent-ng-c2182267995=\"\" aria-hidden=\"true\" class=\"glyphicon pbi-glyph-filter\"></span>\n  (Session info: MicrosoftEdge=124.0.2478.67)\nStacktrace:\n\tGetHandleVerifier [0x00007FF71CFAE4C2+63026]\n\tMicrosoft::Applications::Events::ILogConfiguration::operator* [0x00007FF71CF40F82+213730]\n\t(No symbol) [0x00007FF71CD6E7A7]\n\t(No symbol) [0x00007FF71CDBBB58]\n\t(No symbol) [0x00007FF71CDB9DBB]\n\t(No symbol) [0x00007FF71CDB7ACA]\n\t(No symbol) [0x00007FF71CDB6EA0]\n\t(No symbol) [0x00007FF71CDAB43C]\n\t(No symbol) [0x00007FF71CDD4EDA]\n\t(No symbol) [0x00007FF71CDAAE17]\n\t(No symbol) [0x00007FF71CDAACDD]\n\t(No symbol) [0x00007FF71CDD51C0]\n\t(No symbol) [0x00007FF71CDAAE17]\n\t(No symbol) [0x00007FF71CDEE313]\n\t(No symbol) [0x00007FF71CDD4B43]\n\t(No symbol) [0x00007FF71CDAA33E]\n\t(No symbol) [0x00007FF71CDA94EC]\n\t(No symbol) [0x00007FF71CDA9EF1]\n\tMicrosoft::Applications::Events::EventProperty::to_string [0x00007FF71D155B74+1026500]\n\t(No symbol) [0x00007FF71CE1F29C]\n\tMicrosoft::Applications::Events::EventProperty::~EventProperty [0x00007FF71CEBBD3C+34028]\n\tMicrosoft::Applications::Events::EventProperty::~EventProperty [0x00007FF71CEB4525+3285]\n\tMicrosoft::Applications::Events::EventProperty::to_string [0x00007FF71D154B35+1022341]\n\tMicrosoft::Applications::Events::ILogConfiguration::operator* [0x00007FF71CF49A41+249249]\n\tMicrosoft::Applications::Events::ILogConfiguration::operator* [0x00007FF71CF454C4+231460]\n\tMicrosoft::Applications::Events::ILogConfiguration::operator* [0x00007FF71CF455FB+231771]\n\tMicrosoft::Applications::Events::ILogConfiguration::operator* [0x00007FF71CF3B225+189829]\n\tBaseThreadInitThunk [0x00007FFBF8BB257D+29]\n\tRtlUserThreadStart [0x00007FFBF97CAA58+40]\n",
     "output_type": "error",
     "traceback": [
      "\u001b[1;31m---------------------------------------------------------------------------\u001b[0m",
      "\u001b[1;31mElementClickInterceptedException\u001b[0m          Traceback (most recent call last)",
      "Cell \u001b[1;32mIn[18], line 26\u001b[0m\n\u001b[0;32m     24\u001b[0m     indicadores \u001b[38;5;241m=\u001b[39m driver\u001b[38;5;241m.\u001b[39mfind_elements(By\u001b[38;5;241m.\u001b[39mCSS_SELECTOR, config[\u001b[38;5;124m'\u001b[39m\u001b[38;5;124mcss-id\u001b[39m\u001b[38;5;124m'\u001b[39m][\u001b[38;5;124m'\u001b[39m\u001b[38;5;124mindicator-screen\u001b[39m\u001b[38;5;124m'\u001b[39m])\n\u001b[0;32m     25\u001b[0m     \u001b[38;5;28;01mfor\u001b[39;00m indicador \u001b[38;5;129;01min\u001b[39;00m indicadores:\n\u001b[1;32m---> 26\u001b[0m         indicador\u001b[38;5;241m.\u001b[39mclick()\n\u001b[0;32m     27\u001b[0m         sleep(\u001b[38;5;241m20\u001b[39m)\n\u001b[0;32m     28\u001b[0m \u001b[38;5;28;01melif\u001b[39;00m pagina\u001b[38;5;241m.\u001b[39mtext \u001b[38;5;241m==\u001b[39m \u001b[38;5;124m\"\u001b[39m\u001b[38;5;124mSE VIRA NOS 30\u001b[39m\u001b[38;5;124m\"\u001b[39m:\n",
      "File \u001b[1;32mc:\\Users\\wesleym4345_00\\AppData\\Local\\anaconda3\\envs\\web-scapping-control-pbi\\Lib\\site-packages\\selenium\\webdriver\\remote\\webelement.py:94\u001b[0m, in \u001b[0;36mWebElement.click\u001b[1;34m(self)\u001b[0m\n\u001b[0;32m     92\u001b[0m \u001b[38;5;28;01mdef\u001b[39;00m \u001b[38;5;21mclick\u001b[39m(\u001b[38;5;28mself\u001b[39m) \u001b[38;5;241m-\u001b[39m\u001b[38;5;241m>\u001b[39m \u001b[38;5;28;01mNone\u001b[39;00m:\n\u001b[0;32m     93\u001b[0m \u001b[38;5;250m    \u001b[39m\u001b[38;5;124;03m\"\"\"Clicks the element.\"\"\"\u001b[39;00m\n\u001b[1;32m---> 94\u001b[0m     \u001b[38;5;28mself\u001b[39m\u001b[38;5;241m.\u001b[39m_execute(Command\u001b[38;5;241m.\u001b[39mCLICK_ELEMENT)\n",
      "File \u001b[1;32mc:\\Users\\wesleym4345_00\\AppData\\Local\\anaconda3\\envs\\web-scapping-control-pbi\\Lib\\site-packages\\selenium\\webdriver\\remote\\webelement.py:395\u001b[0m, in \u001b[0;36mWebElement._execute\u001b[1;34m(self, command, params)\u001b[0m\n\u001b[0;32m    393\u001b[0m     params \u001b[38;5;241m=\u001b[39m {}\n\u001b[0;32m    394\u001b[0m params[\u001b[38;5;124m\"\u001b[39m\u001b[38;5;124mid\u001b[39m\u001b[38;5;124m\"\u001b[39m] \u001b[38;5;241m=\u001b[39m \u001b[38;5;28mself\u001b[39m\u001b[38;5;241m.\u001b[39m_id\n\u001b[1;32m--> 395\u001b[0m \u001b[38;5;28;01mreturn\u001b[39;00m \u001b[38;5;28mself\u001b[39m\u001b[38;5;241m.\u001b[39m_parent\u001b[38;5;241m.\u001b[39mexecute(command, params)\n",
      "File \u001b[1;32mc:\\Users\\wesleym4345_00\\AppData\\Local\\anaconda3\\envs\\web-scapping-control-pbi\\Lib\\site-packages\\selenium\\webdriver\\remote\\webdriver.py:347\u001b[0m, in \u001b[0;36mWebDriver.execute\u001b[1;34m(self, driver_command, params)\u001b[0m\n\u001b[0;32m    345\u001b[0m response \u001b[38;5;241m=\u001b[39m \u001b[38;5;28mself\u001b[39m\u001b[38;5;241m.\u001b[39mcommand_executor\u001b[38;5;241m.\u001b[39mexecute(driver_command, params)\n\u001b[0;32m    346\u001b[0m \u001b[38;5;28;01mif\u001b[39;00m response:\n\u001b[1;32m--> 347\u001b[0m     \u001b[38;5;28mself\u001b[39m\u001b[38;5;241m.\u001b[39merror_handler\u001b[38;5;241m.\u001b[39mcheck_response(response)\n\u001b[0;32m    348\u001b[0m     response[\u001b[38;5;124m\"\u001b[39m\u001b[38;5;124mvalue\u001b[39m\u001b[38;5;124m\"\u001b[39m] \u001b[38;5;241m=\u001b[39m \u001b[38;5;28mself\u001b[39m\u001b[38;5;241m.\u001b[39m_unwrap_value(response\u001b[38;5;241m.\u001b[39mget(\u001b[38;5;124m\"\u001b[39m\u001b[38;5;124mvalue\u001b[39m\u001b[38;5;124m\"\u001b[39m, \u001b[38;5;28;01mNone\u001b[39;00m))\n\u001b[0;32m    349\u001b[0m     \u001b[38;5;28;01mreturn\u001b[39;00m response\n",
      "File \u001b[1;32mc:\\Users\\wesleym4345_00\\AppData\\Local\\anaconda3\\envs\\web-scapping-control-pbi\\Lib\\site-packages\\selenium\\webdriver\\remote\\errorhandler.py:229\u001b[0m, in \u001b[0;36mErrorHandler.check_response\u001b[1;34m(self, response)\u001b[0m\n\u001b[0;32m    227\u001b[0m         alert_text \u001b[38;5;241m=\u001b[39m value[\u001b[38;5;124m\"\u001b[39m\u001b[38;5;124malert\u001b[39m\u001b[38;5;124m\"\u001b[39m]\u001b[38;5;241m.\u001b[39mget(\u001b[38;5;124m\"\u001b[39m\u001b[38;5;124mtext\u001b[39m\u001b[38;5;124m\"\u001b[39m)\n\u001b[0;32m    228\u001b[0m     \u001b[38;5;28;01mraise\u001b[39;00m exception_class(message, screen, stacktrace, alert_text)  \u001b[38;5;66;03m# type: ignore[call-arg]  # mypy is not smart enough here\u001b[39;00m\n\u001b[1;32m--> 229\u001b[0m \u001b[38;5;28;01mraise\u001b[39;00m exception_class(message, screen, stacktrace)\n",
      "\u001b[1;31mElementClickInterceptedException\u001b[0m: Message: element click intercepted: Element <div class=\"small-multiples-grid-cell-content buttonSlicerVisual\" role=\"button\" tabindex=\"0\" focusable=\"true\" aria-pressed=\"false\" style=\"width: 161px;\">...</div> is not clickable at point (362, 118). Other element would receive the click: <span _ngcontent-ng-c2182267995=\"\" aria-hidden=\"true\" class=\"glyphicon pbi-glyph-filter\"></span>\n  (Session info: MicrosoftEdge=124.0.2478.67)\nStacktrace:\n\tGetHandleVerifier [0x00007FF71CFAE4C2+63026]\n\tMicrosoft::Applications::Events::ILogConfiguration::operator* [0x00007FF71CF40F82+213730]\n\t(No symbol) [0x00007FF71CD6E7A7]\n\t(No symbol) [0x00007FF71CDBBB58]\n\t(No symbol) [0x00007FF71CDB9DBB]\n\t(No symbol) [0x00007FF71CDB7ACA]\n\t(No symbol) [0x00007FF71CDB6EA0]\n\t(No symbol) [0x00007FF71CDAB43C]\n\t(No symbol) [0x00007FF71CDD4EDA]\n\t(No symbol) [0x00007FF71CDAAE17]\n\t(No symbol) [0x00007FF71CDAACDD]\n\t(No symbol) [0x00007FF71CDD51C0]\n\t(No symbol) [0x00007FF71CDAAE17]\n\t(No symbol) [0x00007FF71CDEE313]\n\t(No symbol) [0x00007FF71CDD4B43]\n\t(No symbol) [0x00007FF71CDAA33E]\n\t(No symbol) [0x00007FF71CDA94EC]\n\t(No symbol) [0x00007FF71CDA9EF1]\n\tMicrosoft::Applications::Events::EventProperty::to_string [0x00007FF71D155B74+1026500]\n\t(No symbol) [0x00007FF71CE1F29C]\n\tMicrosoft::Applications::Events::EventProperty::~EventProperty [0x00007FF71CEBBD3C+34028]\n\tMicrosoft::Applications::Events::EventProperty::~EventProperty [0x00007FF71CEB4525+3285]\n\tMicrosoft::Applications::Events::EventProperty::to_string [0x00007FF71D154B35+1022341]\n\tMicrosoft::Applications::Events::ILogConfiguration::operator* [0x00007FF71CF49A41+249249]\n\tMicrosoft::Applications::Events::ILogConfiguration::operator* [0x00007FF71CF454C4+231460]\n\tMicrosoft::Applications::Events::ILogConfiguration::operator* [0x00007FF71CF455FB+231771]\n\tMicrosoft::Applications::Events::ILogConfiguration::operator* [0x00007FF71CF3B225+189829]\n\tBaseThreadInitThunk [0x00007FFBF8BB257D+29]\n\tRtlUserThreadStart [0x00007FFBF97CAA58+40]\n"
     ]
    }
   ],
   "source": [
    "driver = webdriver.Edge()\n",
    "\n",
    "driver.get(confidential['link']['painel-pbi'])\n",
    "\n",
    "\n",
    "while(True):\n",
    "    try:\n",
    "        id_elemento = driver.find_element(By.CSS_SELECTOR, config['css-id']['login-screen'])\n",
    "        sleep(2)\n",
    "    except: break\n",
    "\n",
    "sleep(10)\n",
    "\n",
    "\n",
    "id_paginas = driver.find_elements(By.CSS_SELECTOR, \"[data-automation-id='carousel_section']\")\n",
    "while (True):\n",
    "    for pagina in id_paginas:\n",
    "        if pagina.text == \"CAPA\":\n",
    "            pagina.click()\n",
    "            sleep(30)\n",
    "        elif pagina.text == \"METAS\":\n",
    "            pagina.click()\n",
    "            indicadores = driver.find_elements(By.CSS_SELECTOR, config['css-id']['indicator-screen'])\n",
    "            for indicador in indicadores:\n",
    "                indicador.click()\n",
    "                sleep(20)\n",
    "        elif pagina.text == \"SE VIRA NOS 30\":\n",
    "            pagina.click()\n",
    "            sleep(30)\n",
    "\n",
    "\n",
    "\n",
    "\n",
    "\n",
    "\n",
    "    \n"
   ]
  }
 ],
 "metadata": {
  "kernelspec": {
   "display_name": "envbase",
   "language": "python",
   "name": "python3"
  },
  "language_info": {
   "codemirror_mode": {
    "name": "ipython",
    "version": 3
   },
   "file_extension": ".py",
   "mimetype": "text/x-python",
   "name": "python",
   "nbconvert_exporter": "python",
   "pygments_lexer": "ipython3",
   "version": "3.12.3"
  }
 },
 "nbformat": 4,
 "nbformat_minor": 2
}
