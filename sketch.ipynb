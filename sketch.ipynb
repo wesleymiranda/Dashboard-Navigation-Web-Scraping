{
 "cells": [
  {
   "cell_type": "markdown",
   "metadata": {},
   "source": [
    "## IMPORT"
   ]
  },
  {
   "cell_type": "code",
   "execution_count": 1,
   "metadata": {},
   "outputs": [],
   "source": [
    "from selenium import webdriver\n",
    "from selenium.webdriver.common.by import By\n",
    "\n",
    "from time import sleep"
   ]
  },
  {
   "cell_type": "markdown",
   "metadata": {},
   "source": [
    "#### Iniciar Configs"
   ]
  },
  {
   "cell_type": "code",
   "execution_count": 7,
   "metadata": {},
   "outputs": [],
   "source": [
    "import yaml\n",
    "\n",
    "config = yaml.safe_load(open('config\\\\general-config.yml'))\n",
    "confidential = yaml.safe_load(open('config\\\\confidecial-config.yml'))"
   ]
  },
  {
   "cell_type": "markdown",
   "metadata": {},
   "source": [
    "## Iniciar navegador com o driver"
   ]
  },
  {
   "cell_type": "code",
   "execution_count": 8,
   "metadata": {},
   "outputs": [],
   "source": [
    "driver = webdriver.Edge()\n",
    "\n",
    "driver.get(confidential['link']['painel-pbi'])\n",
    "\n",
    "\n",
    "while(True):\n",
    "    try:\n",
    "        id_elemento = driver.find_element(By.CSS_SELECTOR, config['css-id']['login-screen'])\n",
    "        sleep(2)\n",
    "    except: break\n",
    "\n",
    "sleep(10)\n",
    "indicadores = driver.find_elements(By.CSS_SELECTOR, config['css-id']['indicator-screen'])\n",
    "\n",
    "while(True):\n",
    "    for indicador in indicadores:\n",
    "        indicador.click()\n",
    "        sleep(20)\n",
    "\n",
    "\n",
    "\n",
    "\n"
   ]
  }
 ],
 "metadata": {
  "kernelspec": {
   "display_name": "envbase",
   "language": "python",
   "name": "python3"
  },
  "language_info": {
   "codemirror_mode": {
    "name": "ipython",
    "version": 3
   },
   "file_extension": ".py",
   "mimetype": "text/x-python",
   "name": "python",
   "nbconvert_exporter": "python",
   "pygments_lexer": "ipython3",
   "version": "3.12.3"
  }
 },
 "nbformat": 4,
 "nbformat_minor": 2
}
